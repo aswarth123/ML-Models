{
 "cells": [
  {
   "cell_type": "markdown",
   "metadata": {},
   "source": [
    "# Trained a MLP over a FashionMNIST dataset"
   ]
  },
  {
   "cell_type": "code",
   "execution_count": 6,
   "metadata": {},
   "outputs": [
    {
     "name": "stdout",
     "output_type": "stream",
     "text": [
      "2.2.0\n",
      "2.3.0-tf\n"
     ]
    }
   ],
   "source": [
    "import tensorflow as tf\n",
    "from tensorflow import keras\n",
    "print(tf.__version__)\n",
    "print(keras.__version__)\n"
   ]
  },
  {
   "cell_type": "code",
   "execution_count": 7,
   "metadata": {},
   "outputs": [
    {
     "name": "stdout",
     "output_type": "stream",
     "text": [
      "Downloading data from https://storage.googleapis.com/tensorflow/tf-keras-datasets/train-labels-idx1-ubyte.gz\n",
      "32768/29515 [=================================] - 0s 2us/step\n",
      "Downloading data from https://storage.googleapis.com/tensorflow/tf-keras-datasets/train-images-idx3-ubyte.gz\n",
      "26427392/26421880 [==============================] - 40s 2us/step\n",
      "Downloading data from https://storage.googleapis.com/tensorflow/tf-keras-datasets/t10k-labels-idx1-ubyte.gz\n",
      "8192/5148 [===============================================] - 0s 1us/step\n",
      "Downloading data from https://storage.googleapis.com/tensorflow/tf-keras-datasets/t10k-images-idx3-ubyte.gz\n",
      "4423680/4422102 [==============================] - 5s 1us/step\n"
     ]
    }
   ],
   "source": [
    "fashion_mnist = keras.datasets.fashion_mnist\n",
    "(X_train_full, y_train_full), (X_test, y_test) = fashion_mnist.load_data()\n"
   ]
  },
  {
   "cell_type": "code",
   "execution_count": 8,
   "metadata": {},
   "outputs": [
    {
     "data": {
      "text/plain": [
       "(60000, 28, 28)"
      ]
     },
     "execution_count": 8,
     "metadata": {},
     "output_type": "execute_result"
    }
   ],
   "source": [
    "X_train_full.shape"
   ]
  },
  {
   "cell_type": "code",
   "execution_count": 9,
   "metadata": {},
   "outputs": [
    {
     "data": {
      "text/plain": [
       "dtype('uint8')"
      ]
     },
     "execution_count": 9,
     "metadata": {},
     "output_type": "execute_result"
    }
   ],
   "source": [
    "X_train_full.dtype"
   ]
  },
  {
   "cell_type": "code",
   "execution_count": 10,
   "metadata": {},
   "outputs": [],
   "source": [
    "X_valid, X_train = X_train_full[:5000] / 255.0, X_train_full[5000:] / 255.0\n",
    "\n",
    "y_valid, y_train = y_train_full[:5000], y_train_full[5000:]\n"
   ]
  },
  {
   "cell_type": "code",
   "execution_count": 12,
   "metadata": {},
   "outputs": [],
   "source": [
    "class_names = [\"T-shirt/top\", \"Trouser\", \"Pullover\", \"Dress\", \"Coat\", \"Sandal\", \n",
    "               \"Shirt\", \"Sneaker\", \"Bag\", \"Ankle boot\"]"
   ]
  },
  {
   "cell_type": "code",
   "execution_count": 13,
   "metadata": {},
   "outputs": [
    {
     "data": {
      "text/plain": [
       "'Coat'"
      ]
     },
     "execution_count": 13,
     "metadata": {},
     "output_type": "execute_result"
    }
   ],
   "source": [
    "class_names[y_train[0]]"
   ]
  },
  {
   "cell_type": "code",
   "execution_count": 33,
   "metadata": {},
   "outputs": [],
   "source": [
    "model = keras.models.Sequential()\n",
    "\n",
    "model.add(keras.layers.Flatten(input_shape = [28, 28]))\n",
    "model.add(keras.layers.Dense(300, activation = \"relu\"))\n",
    "model.add(keras.layers.Dense(100, activation = \"relu\"))\n",
    "\n",
    "model.add(keras.layers.Dense(10, activation = \"softmax\"))\n"
   ]
  },
  {
   "cell_type": "code",
   "execution_count": 34,
   "metadata": {},
   "outputs": [
    {
     "name": "stdout",
     "output_type": "stream",
     "text": [
      "Model: \"sequential_1\"\n",
      "_________________________________________________________________\n",
      "Layer (type)                 Output Shape              Param #   \n",
      "=================================================================\n",
      "flatten_1 (Flatten)          (None, 784)               0         \n",
      "_________________________________________________________________\n",
      "dense_3 (Dense)              (None, 300)               235500    \n",
      "_________________________________________________________________\n",
      "dense_4 (Dense)              (None, 100)               30100     \n",
      "_________________________________________________________________\n",
      "dense_5 (Dense)              (None, 10)                1010      \n",
      "=================================================================\n",
      "Total params: 266,610\n",
      "Trainable params: 266,610\n",
      "Non-trainable params: 0\n",
      "_________________________________________________________________\n"
     ]
    }
   ],
   "source": [
    "model.summary()"
   ]
  },
  {
   "cell_type": "code",
   "execution_count": 35,
   "metadata": {},
   "outputs": [
    {
     "data": {
      "text/plain": [
       "[<tensorflow.python.keras.layers.core.Flatten at 0x7f57f0ee7100>,\n",
       " <tensorflow.python.keras.layers.core.Dense at 0x7f57f0ee7040>,\n",
       " <tensorflow.python.keras.layers.core.Dense at 0x7f57f0ee72e0>,\n",
       " <tensorflow.python.keras.layers.core.Dense at 0x7f57f0ee7430>]"
      ]
     },
     "execution_count": 35,
     "metadata": {},
     "output_type": "execute_result"
    }
   ],
   "source": [
    "model.layers"
   ]
  },
  {
   "cell_type": "code",
   "execution_count": 24,
   "metadata": {},
   "outputs": [
    {
     "data": {
      "text/plain": [
       "'dense'"
      ]
     },
     "execution_count": 24,
     "metadata": {},
     "output_type": "execute_result"
    }
   ],
   "source": [
    "hidden1 = model.layers[1]\n",
    "hidden1.name"
   ]
  },
  {
   "cell_type": "code",
   "execution_count": 21,
   "metadata": {},
   "outputs": [
    {
     "data": {
      "text/plain": [
       "True"
      ]
     },
     "execution_count": 21,
     "metadata": {},
     "output_type": "execute_result"
    }
   ],
   "source": [
    "model.get_layer('dense') is hidden1"
   ]
  },
  {
   "cell_type": "code",
   "execution_count": 25,
   "metadata": {},
   "outputs": [],
   "source": [
    "weights, biases = hidden1.get_weights()"
   ]
  },
  {
   "cell_type": "code",
   "execution_count": 26,
   "metadata": {},
   "outputs": [
    {
     "data": {
      "text/plain": [
       "array([[-3.0988794e-02,  3.8530149e-02,  4.5862108e-02, ...,\n",
       "        -4.1755918e-02,  7.1786344e-03,  5.4758072e-02],\n",
       "       [-9.0734810e-03,  6.0825408e-02, -2.9019095e-02, ...,\n",
       "        -5.4224744e-02,  2.4639793e-02, -4.8235700e-02],\n",
       "       [ 6.5045789e-02, -3.9348289e-02, -4.3865658e-02, ...,\n",
       "        -2.7987547e-02, -3.6165018e-02, -2.6626661e-03],\n",
       "       ...,\n",
       "       [-8.8519007e-03,  2.3866966e-03,  4.8085563e-02, ...,\n",
       "         3.4833297e-02,  3.3133231e-02,  2.4527565e-02],\n",
       "       [-7.6517463e-05,  1.5646987e-02,  3.7180491e-02, ...,\n",
       "         5.3123951e-02, -6.2255487e-02,  6.9685996e-02],\n",
       "       [-3.6832690e-03,  3.1485558e-02, -2.5632352e-02, ...,\n",
       "         5.7875618e-02, -3.2191847e-02,  1.9521251e-02]], dtype=float32)"
      ]
     },
     "execution_count": 26,
     "metadata": {},
     "output_type": "execute_result"
    }
   ],
   "source": [
    "weights"
   ]
  },
  {
   "cell_type": "code",
   "execution_count": 27,
   "metadata": {},
   "outputs": [
    {
     "data": {
      "text/plain": [
       "(784, 300)"
      ]
     },
     "execution_count": 27,
     "metadata": {},
     "output_type": "execute_result"
    }
   ],
   "source": [
    "weights.shape"
   ]
  },
  {
   "cell_type": "code",
   "execution_count": 28,
   "metadata": {},
   "outputs": [
    {
     "data": {
      "text/plain": [
       "array([0., 0., 0., 0., 0., 0., 0., 0., 0., 0., 0., 0., 0., 0., 0., 0., 0.,\n",
       "       0., 0., 0., 0., 0., 0., 0., 0., 0., 0., 0., 0., 0., 0., 0., 0., 0.,\n",
       "       0., 0., 0., 0., 0., 0., 0., 0., 0., 0., 0., 0., 0., 0., 0., 0., 0.,\n",
       "       0., 0., 0., 0., 0., 0., 0., 0., 0., 0., 0., 0., 0., 0., 0., 0., 0.,\n",
       "       0., 0., 0., 0., 0., 0., 0., 0., 0., 0., 0., 0., 0., 0., 0., 0., 0.,\n",
       "       0., 0., 0., 0., 0., 0., 0., 0., 0., 0., 0., 0., 0., 0., 0., 0., 0.,\n",
       "       0., 0., 0., 0., 0., 0., 0., 0., 0., 0., 0., 0., 0., 0., 0., 0., 0.,\n",
       "       0., 0., 0., 0., 0., 0., 0., 0., 0., 0., 0., 0., 0., 0., 0., 0., 0.,\n",
       "       0., 0., 0., 0., 0., 0., 0., 0., 0., 0., 0., 0., 0., 0., 0., 0., 0.,\n",
       "       0., 0., 0., 0., 0., 0., 0., 0., 0., 0., 0., 0., 0., 0., 0., 0., 0.,\n",
       "       0., 0., 0., 0., 0., 0., 0., 0., 0., 0., 0., 0., 0., 0., 0., 0., 0.,\n",
       "       0., 0., 0., 0., 0., 0., 0., 0., 0., 0., 0., 0., 0., 0., 0., 0., 0.,\n",
       "       0., 0., 0., 0., 0., 0., 0., 0., 0., 0., 0., 0., 0., 0., 0., 0., 0.,\n",
       "       0., 0., 0., 0., 0., 0., 0., 0., 0., 0., 0., 0., 0., 0., 0., 0., 0.,\n",
       "       0., 0., 0., 0., 0., 0., 0., 0., 0., 0., 0., 0., 0., 0., 0., 0., 0.,\n",
       "       0., 0., 0., 0., 0., 0., 0., 0., 0., 0., 0., 0., 0., 0., 0., 0., 0.,\n",
       "       0., 0., 0., 0., 0., 0., 0., 0., 0., 0., 0., 0., 0., 0., 0., 0., 0.,\n",
       "       0., 0., 0., 0., 0., 0., 0., 0., 0., 0., 0.], dtype=float32)"
      ]
     },
     "execution_count": 28,
     "metadata": {},
     "output_type": "execute_result"
    }
   ],
   "source": [
    "biases"
   ]
  },
  {
   "cell_type": "code",
   "execution_count": 30,
   "metadata": {},
   "outputs": [
    {
     "data": {
      "text/plain": [
       "(300,)"
      ]
     },
     "execution_count": 30,
     "metadata": {},
     "output_type": "execute_result"
    }
   ],
   "source": [
    "biases.shape"
   ]
  },
  {
   "cell_type": "code",
   "execution_count": 36,
   "metadata": {},
   "outputs": [],
   "source": [
    "model.compile(loss = \"sparse_categorical_crossentropy\", optimizer = \"sgd\", metrics = [\"accuracy\"])\n"
   ]
  },
  {
   "cell_type": "code",
   "execution_count": 37,
   "metadata": {},
   "outputs": [
    {
     "name": "stdout",
     "output_type": "stream",
     "text": [
      "Epoch 1/30\n",
      "1719/1719 [==============================] - 14s 8ms/step - loss: 0.6972 - accuracy: 0.7682 - val_loss: 0.5067 - val_accuracy: 0.8342\n",
      "Epoch 2/30\n",
      "1719/1719 [==============================] - 11s 6ms/step - loss: 0.4843 - accuracy: 0.8320 - val_loss: 0.4527 - val_accuracy: 0.8394\n",
      "Epoch 3/30\n",
      "1719/1719 [==============================] - 9s 5ms/step - loss: 0.4411 - accuracy: 0.8459 - val_loss: 0.4137 - val_accuracy: 0.8602\n",
      "Epoch 4/30\n",
      "1719/1719 [==============================] - 11s 6ms/step - loss: 0.4128 - accuracy: 0.8558 - val_loss: 0.3897 - val_accuracy: 0.8658\n",
      "Epoch 5/30\n",
      "1719/1719 [==============================] - 11s 6ms/step - loss: 0.3928 - accuracy: 0.8622 - val_loss: 0.3765 - val_accuracy: 0.8740\n",
      "Epoch 6/30\n",
      "1719/1719 [==============================] - 10s 6ms/step - loss: 0.3775 - accuracy: 0.8676 - val_loss: 0.3747 - val_accuracy: 0.8652\n",
      "Epoch 7/30\n",
      "1719/1719 [==============================] - 9s 5ms/step - loss: 0.3630 - accuracy: 0.8720 - val_loss: 0.3716 - val_accuracy: 0.8736\n",
      "Epoch 8/30\n",
      "1719/1719 [==============================] - 12s 7ms/step - loss: 0.3523 - accuracy: 0.8753 - val_loss: 0.3590 - val_accuracy: 0.8798\n",
      "Epoch 9/30\n",
      "1719/1719 [==============================] - 14s 8ms/step - loss: 0.3419 - accuracy: 0.8778 - val_loss: 0.3459 - val_accuracy: 0.8800\n",
      "Epoch 10/30\n",
      "1719/1719 [==============================] - 13s 8ms/step - loss: 0.3329 - accuracy: 0.8812 - val_loss: 0.3507 - val_accuracy: 0.8802\n",
      "Epoch 11/30\n",
      "1719/1719 [==============================] - 12s 7ms/step - loss: 0.3237 - accuracy: 0.8840 - val_loss: 0.3313 - val_accuracy: 0.8836\n",
      "Epoch 12/30\n",
      "1719/1719 [==============================] - 11s 7ms/step - loss: 0.3152 - accuracy: 0.8869 - val_loss: 0.3365 - val_accuracy: 0.8862\n",
      "Epoch 13/30\n",
      "1719/1719 [==============================] - 12s 7ms/step - loss: 0.3095 - accuracy: 0.8886 - val_loss: 0.3322 - val_accuracy: 0.8826\n",
      "Epoch 14/30\n",
      "1719/1719 [==============================] - 12s 7ms/step - loss: 0.3026 - accuracy: 0.8917 - val_loss: 0.3220 - val_accuracy: 0.8866\n",
      "Epoch 15/30\n",
      "1719/1719 [==============================] - 13s 8ms/step - loss: 0.2956 - accuracy: 0.8926 - val_loss: 0.3397 - val_accuracy: 0.8786\n",
      "Epoch 16/30\n",
      "1719/1719 [==============================] - 11s 6ms/step - loss: 0.2905 - accuracy: 0.8950 - val_loss: 0.3415 - val_accuracy: 0.8846\n",
      "Epoch 17/30\n",
      "1719/1719 [==============================] - 12s 7ms/step - loss: 0.2847 - accuracy: 0.8968 - val_loss: 0.3231 - val_accuracy: 0.8884\n",
      "Epoch 18/30\n",
      "1719/1719 [==============================] - 12s 7ms/step - loss: 0.2790 - accuracy: 0.8993 - val_loss: 0.3100 - val_accuracy: 0.8930\n",
      "Epoch 19/30\n",
      "1719/1719 [==============================] - 13s 8ms/step - loss: 0.2736 - accuracy: 0.9014 - val_loss: 0.3178 - val_accuracy: 0.8880\n",
      "Epoch 20/30\n",
      "1719/1719 [==============================] - 12s 7ms/step - loss: 0.2690 - accuracy: 0.9019 - val_loss: 0.3072 - val_accuracy: 0.8906\n",
      "Epoch 21/30\n",
      "1719/1719 [==============================] - 10s 6ms/step - loss: 0.2640 - accuracy: 0.9054 - val_loss: 0.3058 - val_accuracy: 0.8912\n",
      "Epoch 22/30\n",
      "1719/1719 [==============================] - 10s 6ms/step - loss: 0.2596 - accuracy: 0.9063 - val_loss: 0.3057 - val_accuracy: 0.8918\n",
      "Epoch 23/30\n",
      "1719/1719 [==============================] - 14s 8ms/step - loss: 0.2548 - accuracy: 0.9088 - val_loss: 0.3040 - val_accuracy: 0.8944\n",
      "Epoch 24/30\n",
      "1719/1719 [==============================] - 12s 7ms/step - loss: 0.2503 - accuracy: 0.9109 - val_loss: 0.2993 - val_accuracy: 0.8914\n",
      "Epoch 25/30\n",
      "1719/1719 [==============================] - 11s 6ms/step - loss: 0.2452 - accuracy: 0.9109 - val_loss: 0.3008 - val_accuracy: 0.8928\n",
      "Epoch 26/30\n",
      "1719/1719 [==============================] - 10s 6ms/step - loss: 0.2411 - accuracy: 0.9129 - val_loss: 0.3025 - val_accuracy: 0.8938\n",
      "Epoch 27/30\n",
      "1719/1719 [==============================] - 10s 6ms/step - loss: 0.2361 - accuracy: 0.9163 - val_loss: 0.3033 - val_accuracy: 0.8898\n",
      "Epoch 28/30\n",
      "1719/1719 [==============================] - 9s 5ms/step - loss: 0.2331 - accuracy: 0.9163 - val_loss: 0.2982 - val_accuracy: 0.8918\n",
      "Epoch 29/30\n",
      "1719/1719 [==============================] - 11s 6ms/step - loss: 0.2297 - accuracy: 0.9171 - val_loss: 0.2986 - val_accuracy: 0.8910\n",
      "Epoch 30/30\n",
      "1719/1719 [==============================] - 9s 5ms/step - loss: 0.2269 - accuracy: 0.9195 - val_loss: 0.2918 - val_accuracy: 0.8968\n"
     ]
    }
   ],
   "source": [
    "history = model.fit(X_train, y_train, epochs = 30, validation_data = (X_valid, y_valid))"
   ]
  },
  {
   "cell_type": "code",
   "execution_count": 38,
   "metadata": {},
   "outputs": [
    {
     "name": "stdout",
     "output_type": "stream",
     "text": [
      "313/313 [==============================] - 2s 5ms/step - loss: 59.7856 - accuracy: 0.8572\n"
     ]
    },
    {
     "data": {
      "text/plain": [
       "[59.785579681396484, 0.857200026512146]"
      ]
     },
     "execution_count": 38,
     "metadata": {},
     "output_type": "execute_result"
    }
   ],
   "source": [
    "model.evaluate(X_test, y_test)"
   ]
  },
  {
   "cell_type": "code",
   "execution_count": null,
   "metadata": {},
   "outputs": [],
   "source": []
  }
 ],
 "metadata": {
  "kernelspec": {
   "display_name": "Python 3",
   "language": "python",
   "name": "python3"
  },
  "language_info": {
   "codemirror_mode": {
    "name": "ipython",
    "version": 3
   },
   "file_extension": ".py",
   "mimetype": "text/x-python",
   "name": "python",
   "nbconvert_exporter": "python",
   "pygments_lexer": "ipython3",
   "version": "3.8.3"
  }
 },
 "nbformat": 4,
 "nbformat_minor": 4
}
